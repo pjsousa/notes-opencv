{
 "cells": [
  {
   "cell_type": "markdown",
   "metadata": {},
   "source": [
    "If we are running our jupyter server through docker, our webcam might not be seen by our guest environment. That is, the container running jupyter has no devices.\n",
    "\n",
    "That can be changed with the --device option when spinning up new conainers."
   ]
  },
  {
   "cell_type": "code",
   "execution_count": 3,
   "metadata": {
    "collapsed": true
   },
   "outputs": [],
   "source": [
    "# In the host environment we need to first find the device\n",
    "\n",
    "# $ ls /dev | grep video\n",
    "#    > video0\n",
    "#      video1\n",
    "\n",
    "# $ ls /dev | grep video\n",
    "#    > video0\n",
    "#      video1"
   ]
  },
  {
   "cell_type": "code",
   "execution_count": 4,
   "metadata": {
    "collapsed": true
   },
   "outputs": [],
   "source": [
    "# Then we just need to connect the device to the container."
   ]
  },
  {
   "cell_type": "code",
   "execution_count": null,
   "metadata": {},
   "outputs": [],
   "source": [
    "#For instance, if we previously did this:\n",
    "\n",
    "docker run -it -p 8888:8888 -v `pwd`:/root/jupyterdata pjsousa/docker-jupyteropencv"
   ]
  },
  {
   "cell_type": "code",
   "execution_count": null,
   "metadata": {
    "collapsed": true
   },
   "outputs": [],
   "source": [
    "#it becomes this:\n",
    "\n",
    "docker run -it --device /dev/video0 -p 8888:8888 -v `pwd`:/root/jupyterdata pjsousa/docker-jupyteropencv\n",
    "        \n",
    "docker run -it --device /dev/video0 -p 8888:8888 -v `pwd`:/root/jupyterdata pjsousa/docker-jupyteropencv"
   ]
  },
  {
   "cell_type": "markdown",
   "metadata": {},
   "source": [
    "Now, given we're running jupyter inside docker, we won't be able to see our webcam in the window that OpenCV usually opens for us.\n",
    "\n",
    "One (really slow) way of looking at the output of the webcam is to render the images inline into the jupyter's cell output"
   ]
  },
  {
   "cell_type": "code",
   "execution_count": 13,
   "metadata": {},
   "outputs": [],
   "source": [
    "# first, we are already overriden the cv2.imshow with something similiar to this\n",
    "\n",
    "#def imshow(cv2, name, input, fig_size=None, cmap=\"gray\"):\n",
    "#    if fig_size is None:\n",
    "#        dpi = 80\n",
    "#        im_data = input\n",
    "#        try:\n",
    "#            height, width, depth = im_data.shape\n",
    "#        except:\n",
    "#            height, width = im_data.shape\n",
    "#        fig_size = width / float(dpi), height / float(dpi)\n",
    "\n",
    "#    try:\n",
    "#        input = cv2.cvtColor(input,cv2.COLOR_BGR2RGB)\n",
    "#    except :\n",
    "#        input = input\n",
    "\n",
    "#    import matplotlib.pyplot as plt\n",
    "#    get_ipython().magic(u'matplotlib inline')\n",
    "    \n",
    "#    fig, ax = plt.subplots(figsize=fig_size)\n",
    "#    print(\"Showing Image: {}\".format(name))\n",
    "#    ax.imshow(input, interpolation='none', aspect=\"auto\", cmap=cmap)\n",
    "#    plt.show()\n",
    "\n",
    "# a version of this function is also in this gist:\n",
    "#     https://gist.github.com/pjsousa/5dd693491c3ee7a4879ca06249e96d2a"
   ]
  },
  {
   "cell_type": "markdown",
   "metadata": {},
   "source": [
    "Now we just need to fetch images from our device and show them inside the notebook. "
   ]
  },
  {
   "cell_type": "code",
   "execution_count": null,
   "metadata": {
    "collapsed": true
   },
   "outputs": [],
   "source": [
    "import notebook_util\n",
    "import cv2\n",
    "from matplotlib import pyplot as plt\n",
    "import numpy as np\n",
    "import time\n",
    "from IPython.display import clear_output\n",
    "\n",
    "notebook_util.override_imshow(cv2) # this overrides cv2.imshow\n",
    "\n",
    "%matplotlib inline"
   ]
  },
  {
   "cell_type": "code",
   "execution_count": null,
   "metadata": {
    "collapsed": true
   },
   "outputs": [],
   "source": [
    "cap = cv2.VideoCapture(0) ## we want the video device 0 (we probably only have one inside the container...)\n",
    "\n",
    "try:\n",
    "    while True:\n",
    "        # we'll clear the output cell;\n",
    "        clear_output()\n",
    "        \n",
    "        #get a new frame;\n",
    "        ret, frame = cap.read()\n",
    "        \n",
    "        #And show the frame's image\n",
    "        cv2.imshow('Our Live, slow, video ', frame)\n",
    "        \n",
    "        # wait for a second, so the notebook doesn't hang\n",
    "        time.sleep(1)\n",
    "\n",
    "except KeyboardInterrupt:\n",
    "    # Release camera\n",
    "    cap.release()"
   ]
  },
  {
   "cell_type": "markdown",
   "metadata": {},
   "source": [
    "In order to stop this example we need to actually send the KeyboardInterrupt signal. Which must be handled and used to stop the device, otherwise the camera would be locked."
   ]
  },
  {
   "cell_type": "code",
   "execution_count": null,
   "metadata": {
    "collapsed": true
   },
   "outputs": [],
   "source": []
  }
 ],
 "metadata": {
  "kernelspec": {
   "display_name": "Python 2",
   "language": "python",
   "name": "python2"
  },
  "language_info": {
   "codemirror_mode": {
    "name": "ipython",
    "version": 2
   },
   "file_extension": ".py",
   "mimetype": "text/x-python",
   "name": "python",
   "nbconvert_exporter": "python",
   "pygments_lexer": "ipython2",
   "version": "2.7.12"
  }
 },
 "nbformat": 4,
 "nbformat_minor": 2
}
