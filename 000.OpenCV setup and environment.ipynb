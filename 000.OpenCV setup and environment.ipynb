{
 "cells": [
  {
   "cell_type": "markdown",
   "metadata": {},
   "source": [
    "The [OpenCV](http://opencv.org/) library can be a bit tricky to setup at times.\n",
    "\n",
    "\n",
    "To follow along with these notes lets just either:"
   ]
  },
  {
   "cell_type": "markdown",
   "metadata": {},
   "source": [
    "## Setting up the environment"
   ]
  },
  {
   "cell_type": "markdown",
   "metadata": {},
   "source": [
    "- **Spin up a vanilla ubuntu container with python 2 and OpenCV 3 preinstalled **"
   ]
  },
  {
   "cell_type": "code",
   "execution_count": null,
   "metadata": {
    "collapsed": true
   },
   "outputs": [],
   "source": [
    "docker run -it \n",
    "    -p 8888:8888 \n",
    "    -v `pwd`:/root/jupyterdata \n",
    "    pjsousa/docker-jupyteropencv"
   ]
  },
  {
   "cell_type": "markdown",
   "metadata": {},
   "source": [
    "> This starts the container in interactive mode. And we'll be inside  of the container's terminal"
   ]
  },
  {
   "cell_type": "markdown",
   "metadata": {},
   "source": [
    "- ** Or, a similar container with the same setup that fires up a jupyter server**"
   ]
  },
  {
   "cell_type": "code",
   "execution_count": null,
   "metadata": {
    "collapsed": true
   },
   "outputs": [],
   "source": [
    "docker run -d\n",
    "    -p 8888:8888 #the server will be available in \n",
    "    -v `pwd`:/root/jupyterdata # the server will have our current directory mounted\n",
    "    pjsousa/docker-jupyteropencv"
   ]
  },
  {
   "cell_type": "markdown",
   "metadata": {},
   "source": [
    "> This fires up a jupyter in  *http://localhost:8888*. Then we just need to open or create our notebooks"
   ]
  },
  {
   "cell_type": "markdown",
   "metadata": {},
   "source": [
    "After reaching a python prompt by either of the above ways, we can start using opencv"
   ]
  },
  {
   "cell_type": "markdown",
   "metadata": {},
   "source": [
    "## Testing the Environment"
   ]
  },
  {
   "cell_type": "code",
   "execution_count": 14,
   "metadata": {
    "collapsed": true
   },
   "outputs": [],
   "source": [
    "import cv2"
   ]
  },
  {
   "cell_type": "code",
   "execution_count": 16,
   "metadata": {},
   "outputs": [
    {
     "name": "stdout",
     "output_type": "stream",
     "text": [
      "3.1.0\n"
     ]
    }
   ],
   "source": [
    "print(cv2.__version__)"
   ]
  },
  {
   "cell_type": "markdown",
   "metadata": {},
   "source": [
    "Both our environments will have a couple of other python libraries pre-installed"
   ]
  },
  {
   "cell_type": "code",
   "execution_count": 20,
   "metadata": {},
   "outputs": [
    {
     "name": "stderr",
     "output_type": "stream",
     "text": [
      "Using TensorFlow backend.\n"
     ]
    }
   ],
   "source": [
    "import pandas\n",
    "import pandas_datareader\n",
    "import matplotlib \n",
    "import seaborn \n",
    "import plotly\n",
    "import sklearn \n",
    "import skimage\n",
    "import scipy\n",
    "import jupyter\n",
    "import tensorflow \n",
    "import theano \n",
    "import keras"
   ]
  },
  {
   "cell_type": "code",
   "execution_count": 22,
   "metadata": {},
   "outputs": [
    {
     "name": "stdout",
     "output_type": "stream",
     "text": [
      "pandas version:            0.20.3\n",
      "pandas_datareader version: 0.5.0\n",
      "matplotlib  version:       2.0.2\n",
      "seaborn  version:          0.8.0\n",
      "plotly version:            2.0.15\n",
      "sklearn  version:          0.19.0\n",
      "skimage version:           0.13.0\n",
      "scipy version:             0.19.1\n",
      "jupyter version:           1.0.0\n",
      "tensorflow  version:       1.3.0\n",
      "theano  version:           0.9.0\n",
      "keras version:             2.0.8\n"
     ]
    }
   ],
   "source": [
    "print(\"pandas version:            {}\".format(pandas.__version__))\n",
    "print(\"pandas_datareader version: {}\".format(pandas_datareader.__version__))\n",
    "print(\"matplotlib  version:       {}\".format(matplotlib .__version__))\n",
    "print(\"seaborn  version:          {}\".format(seaborn .__version__))\n",
    "print(\"plotly version:            {}\".format(plotly.__version__))\n",
    "print(\"sklearn  version:          {}\".format(sklearn .__version__))\n",
    "print(\"skimage version:           {}\".format(skimage.__version__))\n",
    "print(\"scipy version:             {}\".format(scipy.__version__))\n",
    "print(\"jupyter version:           {}\".format(jupyter.__version__))\n",
    "print(\"tensorflow  version:       {}\".format(tensorflow .__version__))\n",
    "print(\"theano  version:           {}\".format(theano .__version__))\n",
    "print(\"keras version:             {}\".format(keras.__version__))"
   ]
  },
  {
   "cell_type": "markdown",
   "metadata": {},
   "source": [
    "## Addind Libraries"
   ]
  },
  {
   "cell_type": "markdown",
   "metadata": {},
   "source": [
    "*we can still install some other packages specifically into the running container using the \"!\" magic*"
   ]
  },
  {
   "cell_type": "code",
   "execution_count": null,
   "metadata": {
    "collapsed": true
   },
   "outputs": [],
   "source": [
    "# For example:\n",
    "!pip install bcolz"
   ]
  },
  {
   "cell_type": "markdown",
   "metadata": {},
   "source": [
    "Finally, both these images are publish in Docker Hub and can also be found on github:\n",
    "\n",
    "- [pjsousa/docker-opencv](https://github.com/pjsousa/docker-opencv) ( github.com/pjsousa/docker-opencv )\n",
    "- [pjsousa/docker-jupyteropencv](https://github.com/pjsousa/docker-jupyteropencv) ( github.com/pjsousa/docker-jupyteropencv )"
   ]
  },
  {
   "cell_type": "markdown",
   "metadata": {},
   "source": [
    "https://opencv-python-tutroals.readthedocs.io/en/latest/py_tutorials/py_tutorials.html"
   ]
  },
  {
   "cell_type": "markdown",
   "metadata": {},
   "source": [
    "#######python|jupyter|opencv|setup|setup-environment"
   ]
  }
 ],
 "metadata": {
  "kernelspec": {
   "display_name": "Python 2",
   "language": "python",
   "name": "python2"
  },
  "language_info": {
   "codemirror_mode": {
    "name": "ipython",
    "version": 2
   },
   "file_extension": ".py",
   "mimetype": "text/x-python",
   "name": "python",
   "nbconvert_exporter": "python",
   "pygments_lexer": "ipython2",
   "version": "2.7.12"
  }
 },
 "nbformat": 4,
 "nbformat_minor": 2
}
